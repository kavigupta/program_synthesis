{
 "cells": [
  {
   "cell_type": "code",
   "execution_count": 42,
   "metadata": {},
   "outputs": [],
   "source": [
    "import numpy as np\n",
    "import matplotlib.pyplot as plt\n",
    "import sys; sys.path.insert(0, \"..\")"
   ]
  },
  {
   "cell_type": "code",
   "execution_count": 90,
   "metadata": {},
   "outputs": [],
   "source": [
    "%matplotlib inline\n",
    "%load_ext autoreload\n",
    "%autoreload 2"
   ]
  },
  {
   "cell_type": "code",
   "execution_count": 151,
   "metadata": {},
   "outputs": [],
   "source": [
    "import json\n",
    "from tqdm import notebook as tqdm\n",
    "\n",
    "from sklearn import tree\n",
    "\n",
    "from program_synthesis.datasets.dataset import KarelTorchDataset\n",
    "from program_synthesis.datasets.executor import KarelExecutor"
   ]
  },
  {
   "cell_type": "code",
   "execution_count": 46,
   "metadata": {},
   "outputs": [],
   "source": [
    "data = KarelTorchDataset(\"../data/karel/train.pkl\")"
   ]
  },
  {
   "cell_type": "code",
   "execution_count": 7,
   "metadata": {},
   "outputs": [],
   "source": [
    "with open(\"../baseline/nearai32-train.json\") as f:\n",
    "    nearai32_on_train = json.load(f)"
   ]
  },
  {
   "cell_type": "code",
   "execution_count": 48,
   "metadata": {},
   "outputs": [],
   "source": [
    "assert len(data) == len(nearai32_on_train)"
   ]
  },
  {
   "cell_type": "code",
   "execution_count": 49,
   "metadata": {},
   "outputs": [
    {
     "data": {
      "text/plain": [
       "{'output': ['DEF', 'run', 'm(', 'turnLeft', 'move', 'pickMarker', 'm)'],\n",
       " 'is_correct': True,\n",
       " 'individual': [1, 1, 1, 1, 1, 1],\n",
       " 'passes_given_tests': True}"
      ]
     },
     "execution_count": 49,
     "metadata": {},
     "output_type": "execute_result"
    }
   ],
   "source": [
    "nearai32_on_train[0]"
   ]
  },
  {
   "cell_type": "code",
   "execution_count": 20,
   "metadata": {},
   "outputs": [],
   "source": [
    "passes_heldout = np.array([bool(d['individual'][-1]) for d in nearai32_on_train])\n",
    "passes_given = np.array([all(d['individual'][:-1]) for d in nearai32_on_train])"
   ]
  },
  {
   "cell_type": "code",
   "execution_count": 24,
   "metadata": {},
   "outputs": [
    {
     "name": "stdout",
     "output_type": "stream",
     "text": [
      "Correct            :    85.0722%\n",
      "Overfit            :     4.1235%\n",
      "Only Passes Heldout:     0.0000%\n",
      "Fully Wrong        :    10.8043%\n"
     ]
    }
   ],
   "source": [
    "print(\"Correct            : %10.4f%%\" % (100 * np.mean(passes_given & passes_heldout)))\n",
    "print(\"Overfit            : %10.4f%%\" % (100 * np.mean(passes_given & ~passes_heldout)))\n",
    "print(\"Only Passes Heldout: %10.4f%%\" % (100 * np.mean(~passes_given & passes_heldout)))\n",
    "print(\"Fully Wrong        : %10.4f%%\" % (100 * np.mean(~passes_given & ~passes_heldout)))"
   ]
  },
  {
   "cell_type": "code",
   "execution_count": 31,
   "metadata": {},
   "outputs": [],
   "source": [
    "corrects = [d for d in nearai32_on_train if d['is_correct']]\n",
    "overfits = [d for d in nearai32_on_train if not d['is_correct'] and d['passes_given_tests']]"
   ]
  },
  {
   "cell_type": "code",
   "execution_count": 32,
   "metadata": {},
   "outputs": [
    {
     "data": {
      "text/plain": [
       "(46054, 46054)"
      ]
     },
     "execution_count": 32,
     "metadata": {},
     "output_type": "execute_result"
    }
   ],
   "source": [
    "np.sum(passes_given & ~passes_heldout), len(overfits)"
   ]
  },
  {
   "cell_type": "code",
   "execution_count": 152,
   "metadata": {},
   "outputs": [],
   "source": [
    "lengths = np.array([len(d['output']) for d in nearai32_on_train])"
   ]
  },
  {
   "cell_type": "code",
   "execution_count": 40,
   "metadata": {},
   "outputs": [
    {
     "data": {
      "image/png": "[encoded data removed]",
      "text/plain": [
       "<Figure size 432x288 with 1 Axes>"
      ]
     },
     "metadata": {
      "needs_background": "light"
     },
     "output_type": "display_data"
    }
   ],
   "source": [
    "c_lengths = [len(d['output']) for d in corrects]\n",
    "o_lengths = [len(d['output']) for d in overfits]\n",
    "plt.hist(c_lengths, alpha=0.5,\n",
    "         label=\"Correct Programs [mean=%.2f]\" % np.mean(c_lengths),\n",
    "         weights=np.ones_like(c_lengths)/len(c_lengths),\n",
    "         bins=np.linspace(0, 60, 21))\n",
    "plt.hist(o_lengths, alpha=0.5,\n",
    "         label=\"Overfit Programs [mean=%.2f]\" % np.mean(o_lengths),\n",
    "         weights=np.ones_like(o_lengths)/len(o_lengths),\n",
    "         bins=np.linspace(0, 60, 21))\n",
    "plt.xlabel(\"Length\")\n",
    "plt.ylabel(\"Relative Frequency\")\n",
    "plt.title(\"Length Comparison\")\n",
    "plt.legend()\n",
    "plt.show()"
   ]
  },
  {
   "cell_type": "code",
   "execution_count": 137,
   "metadata": {},
   "outputs": [],
   "source": [
    "with open(\"../coverages/nearai32-train.json\") as f:\n",
    "    coverages = json.load(f)"
   ]
  },
  {
   "cell_type": "code",
   "execution_count": 138,
   "metadata": {},
   "outputs": [],
   "source": [
    "assert len(coverages) == len(data)"
   ]
  },
  {
   "cell_type": "code",
   "execution_count": 143,
   "metadata": {},
   "outputs": [],
   "source": [
    "def action_cover_counts(coverage):\n",
    "    if coverage is None:\n",
    "        return np.array([0])\n",
    "    are_actions = np.array(coverage['classification']['action'], dtype=np.bool)\n",
    "    by_action = np.zeros(len(are_actions), dtype=np.int)\n",
    "    for test in coverage['coverage']:\n",
    "        by_action += test['action']\n",
    "    return by_action[are_actions]\n",
    "def branch_cover_counts(coverage):\n",
    "    if coverage is None:\n",
    "        return np.array([0])\n",
    "    are_branches = np.array(coverage['classification']['branch'], dtype=np.bool)\n",
    "    by_branch = np.zeros(len(are_branches), dtype=np.int)\n",
    "    for test in coverage['coverage']:\n",
    "        by_branch += np.all(test['branch'], axis=1)\n",
    "    return by_branch[are_branches]"
   ]
  },
  {
   "cell_type": "code",
   "execution_count": 144,
   "metadata": {},
   "outputs": [
    {
     "data": {
      "text/plain": [
       "['DEF',\n",
       " 'run',\n",
       " 'm(',\n",
       " 'pickMarker',\n",
       " 'REPEAT',\n",
       " 'R=7',\n",
       " 'r(',\n",
       " 'move',\n",
       " 'putMarker',\n",
       " 'r)',\n",
       " 'move',\n",
       " 'turnRight',\n",
       " 'm)']"
      ]
     },
     "execution_count": 144,
     "metadata": {},
     "output_type": "execute_result"
    }
   ],
   "source": [
    "data[3].code_sequence"
   ]
  },
  {
   "cell_type": "code",
   "execution_count": 145,
   "metadata": {},
   "outputs": [],
   "source": [
    "full_action_coverage = np.array([(action_cover_counts(coverage) >= 1).all() for coverage in coverages])\n",
    "double_action_coverage = np.array([(action_cover_counts(coverage) >= 2).all() for coverage in coverages])\n",
    "full_branch_coverage = np.array([(branch_cover_counts(coverage) >= 1).all() for coverage in coverages])\n",
    "double_branch_coverage = np.array([(branch_cover_counts(coverage) >= 2).all() for coverage in coverages])"
   ]
  },
  {
   "cell_type": "code",
   "execution_count": 146,
   "metadata": {},
   "outputs": [],
   "source": [
    "def three_statistics(mask):\n",
    "    overall = np.mean(mask & passes_given) / np.mean(passes_given)\n",
    "    among_correct = np.mean(mask & passes_given & passes_heldout) / np.mean(passes_given & passes_heldout)\n",
    "    among_overfit = np.mean(mask & passes_given & ~passes_heldout) / np.mean(passes_given & ~passes_heldout)\n",
    "    return overall, among_correct, among_overfit"
   ]
  },
  {
   "cell_type": "code",
   "execution_count": 147,
   "metadata": {},
   "outputs": [
    {
     "data": {
      "text/plain": [
       "(0.9756601678802954, 0.9779325398997193, 0.9287792591305857)"
      ]
     },
     "execution_count": 147,
     "metadata": {},
     "output_type": "execute_result"
    }
   ],
   "source": [
    "three_statistics(full_action_coverage)"
   ]
  },
  {
   "cell_type": "code",
   "execution_count": 148,
   "metadata": {},
   "outputs": [
    {
     "data": {
      "text/plain": [
       "(0.8854972866512879, 0.8915961150661171, 0.7596734268467451)"
      ]
     },
     "execution_count": 148,
     "metadata": {},
     "output_type": "execute_result"
    }
   ],
   "source": [
    "three_statistics(double_action_coverage)"
   ]
  },
  {
   "cell_type": "code",
   "execution_count": 149,
   "metadata": {},
   "outputs": [
    {
     "data": {
      "text/plain": [
       "(0.8372522801966701, 0.8424808342419791, 0.7293828983367351)"
      ]
     },
     "execution_count": 149,
     "metadata": {},
     "output_type": "execute_result"
    }
   ],
   "source": [
    "three_statistics(full_branch_coverage)"
   ]
  },
  {
   "cell_type": "code",
   "execution_count": 150,
   "metadata": {},
   "outputs": [
    {
     "data": {
      "text/plain": [
       "(0.8062450185005612, 0.8127575957866907, 0.6718851782689885)"
      ]
     },
     "execution_count": 150,
     "metadata": {},
     "output_type": "execute_result"
    }
   ],
   "source": [
    "three_statistics(double_branch_coverage)"
   ]
  },
  {
   "cell_type": "code",
   "execution_count": 153,
   "metadata": {},
   "outputs": [],
   "source": [
    "stats = np.array([\n",
    "    lengths,\n",
    "    full_action_coverage,\n",
    "    double_action_coverage,\n",
    "    full_branch_coverage,\n",
    "    double_branch_coverage\n",
    "])"
   ]
  },
  {
   "cell_type": "code",
   "execution_count": 177,
   "metadata": {},
   "outputs": [],
   "source": [
    "overfit_idx = np.where(passes_given & ~passes_heldout)[0]\n",
    "correct_idx = np.where(passes_given &  passes_heldout)[0]\n",
    "minima = min(overfit_idx.size, correct_idx.size)\n",
    "all_idx = np.concatenate([overfit_idx[:minima], correct_idx[:minima]])"
   ]
  },
  {
   "cell_type": "code",
   "execution_count": 178,
   "metadata": {},
   "outputs": [],
   "source": [
    "clf = tree.DecisionTreeClassifier()\n",
    "clf = clf.fit(stats.T[all_idx], passes_heldout[all_idx])"
   ]
  },
  {
   "cell_type": "code",
   "execution_count": 179,
   "metadata": {},
   "outputs": [],
   "source": [
    "def confusion(ypred, y):\n",
    "    return ([[np.mean((ypred == i) & (y == j)) * 100 for i in range(2)] for j in range(2)])"
   ]
  },
  {
   "cell_type": "code",
   "execution_count": 183,
   "metadata": {},
   "outputs": [
    {
     "data": {
      "text/plain": [
       "0.4773092456681287"
      ]
     },
     "execution_count": 183,
     "metadata": {},
     "output_type": "execute_result"
    }
   ],
   "source": [
    "np.mean(clf.predict(stats.T[all_idx]))"
   ]
  },
  {
   "cell_type": "code",
   "execution_count": 184,
   "metadata": {
    "scrolled": true
   },
   "outputs": [
    {
     "data": {
      "text/plain": [
       "[[31.671516046380336, 18.328483953619664],\n",
       " [20.59755938680679, 29.40244061319321]]"
      ]
     },
     "execution_count": 184,
     "metadata": {},
     "output_type": "execute_result"
    }
   ],
   "source": [
    "confusion(clf.predict(stats.T[all_idx]), passes_heldout[all_idx])"
   ]
  },
  {
   "cell_type": "code",
   "execution_count": null,
   "metadata": {},
   "outputs": [],
   "source": []
  }
 ],
 "metadata": {
  "kernelspec": {
   "display_name": "Python 3",
   "language": "python",
   "name": "python3"
  },
  "language_info": {
   "codemirror_mode": {
    "name": "ipython",
    "version": 3
   },
   "file_extension": ".py",
   "mimetype": "text/x-python",
   "name": "python",
   "nbconvert_exporter": "python",
   "pygments_lexer": "ipython3",
   "version": "3.6.8"
  }
 },
 "nbformat": 4,
 "nbformat_minor": 4
}
