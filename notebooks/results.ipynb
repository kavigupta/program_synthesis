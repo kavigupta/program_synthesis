{
 "cells": [
  {
   "cell_type": "code",
   "execution_count": 1,
   "metadata": {},
   "outputs": [],
   "source": [
    "import os\n",
    "import re\n",
    "import json\n",
    "import matplotlib.pyplot as plt\n",
    "import matplotlib as mpl\n",
    "import pandas as pd\n",
    "import numpy as np\n",
    "import glob\n",
    "import editdistance\n",
    "from collections import Counter\n",
    "\n",
    "from tqdm import notebook as tqdm\n",
    "import sys; sys.path.insert(0, \"..\")\n",
    "from program_synthesis.analysis.load_results import *\n",
    "from program_synthesis.analysis.organize_results import *\n",
    "from program_synthesis.analysis.models_to_analyze import model_labels\n",
    "cycle = plt.rcParams['axes.prop_cycle'].by_key()['color']"
   ]
  },
  {
   "cell_type": "code",
   "execution_count": 2,
   "metadata": {},
   "outputs": [],
   "source": [
    "%matplotlib inline\n",
    "%load_ext autoreload\n",
    "%autoreload 2"
   ]
  },
  {
   "cell_type": "code",
   "execution_count": 3,
   "metadata": {
    "scrolled": true
   },
   "outputs": [
    {
     "name": "stdout",
     "output_type": "stream",
     "text": [
      "vanilla\n"
     ]
    },
    {
     "data": {
      "application/vnd.jupyter.widget-view+json": {
       "model_id": "866a811a2c014e0786932d2f594d8f55",
       "version_major": 2,
       "version_minor": 0
      },
      "text/plain": [
       "HBox(children=(FloatProgress(value=0.0, max=5128.0), HTML(value='')))"
      ]
     },
     "metadata": {},
     "output_type": "display_data"
    },
    {
     "name": "stdout",
     "output_type": "stream",
     "text": [
      "\n",
      "aggregate-with-io\n"
     ]
    },
    {
     "data": {
      "application/vnd.jupyter.widget-view+json": {
       "model_id": "7b1502db7a5e4822b0fd520f9cbeba9a",
       "version_major": 2,
       "version_minor": 0
      },
      "text/plain": [
       "HBox(children=(FloatProgress(value=0.0, max=3097.0), HTML(value='')))"
      ]
     },
     "metadata": {},
     "output_type": "display_data"
    },
    {
     "name": "stdout",
     "output_type": "stream",
     "text": [
      "\n",
      "vanilla-real-nearai-finetuned-1e-4\n"
     ]
    },
    {
     "data": {
      "application/vnd.jupyter.widget-view+json": {
       "model_id": "60342d44dbed44598039c7430590fd8d",
       "version_major": 2,
       "version_minor": 0
      },
      "text/plain": [
       "HBox(children=(FloatProgress(value=0.0, max=3008.0), HTML(value='')))"
      ]
     },
     "metadata": {},
     "output_type": "display_data"
    },
    {
     "name": "stdout",
     "output_type": "stream",
     "text": [
      "\n",
      "aggregate-with-io-real-nearai-finetuned-1e-4\n"
     ]
    },
    {
     "data": {
      "application/vnd.jupyter.widget-view+json": {
       "model_id": "bfb995e9c8dd4fdf9cee08d4f5925e0e",
       "version_major": 2,
       "version_minor": 0
      },
      "text/plain": [
       "HBox(children=(FloatProgress(value=0.0, max=3167.0), HTML(value='')))"
      ]
     },
     "metadata": {},
     "output_type": "display_data"
    },
    {
     "name": "stdout",
     "output_type": "stream",
     "text": [
      "\n",
      "vanilla-many-mutations\n"
     ]
    },
    {
     "data": {
      "application/vnd.jupyter.widget-view+json": {
       "model_id": "75aea5943ea945ef8ed9c82a7b0bff1e",
       "version_major": 2,
       "version_minor": 0
      },
      "text/plain": [
       "HBox(children=(FloatProgress(value=0.0, max=2077.0), HTML(value='')))"
      ]
     },
     "metadata": {},
     "output_type": "display_data"
    },
    {
     "name": "stdout",
     "output_type": "stream",
     "text": [
      "\n",
      "aggregate-with-io-many-mutations\n"
     ]
    },
    {
     "data": {
      "application/vnd.jupyter.widget-view+json": {
       "model_id": "fa235c06bec14387b8236b8097fd2394",
       "version_major": 2,
       "version_minor": 0
      },
      "text/plain": [
       "HBox(children=(FloatProgress(value=0.0, max=1267.0), HTML(value='')))"
      ]
     },
     "metadata": {},
     "output_type": "display_data"
    },
    {
     "name": "stdout",
     "output_type": "stream",
     "text": [
      "\n",
      "vanilla-real-nearai32-finetuned-1e-4\n"
     ]
    },
    {
     "data": {
      "application/vnd.jupyter.widget-view+json": {
       "model_id": "6666d820c4884a16b4a9f3886266c450",
       "version_major": 2,
       "version_minor": 0
      },
      "text/plain": [
       "HBox(children=(FloatProgress(value=0.0, max=1247.0), HTML(value='')))"
      ]
     },
     "metadata": {},
     "output_type": "display_data"
    },
    {
     "name": "stdout",
     "output_type": "stream",
     "text": [
      "\n",
      "aggregate-with-io-real-nearai32-finetuned-1e-4\n"
     ]
    },
    {
     "data": {
      "application/vnd.jupyter.widget-view+json": {
       "model_id": "cbede257eef34add8494269a24af0725",
       "version_major": 2,
       "version_minor": 0
      },
      "text/plain": [
       "HBox(children=(FloatProgress(value=0.0, max=1522.0), HTML(value='')))"
      ]
     },
     "metadata": {},
     "output_type": "display_data"
    },
    {
     "name": "stdout",
     "output_type": "stream",
     "text": [
      "\n",
      "vanilla,h,327\n"
     ]
    },
    {
     "data": {
      "application/vnd.jupyter.widget-view+json": {
       "model_id": "849370bee16d4b8ea67d61e390355a05",
       "version_major": 2,
       "version_minor": 0
      },
      "text/plain": [
       "HBox(children=(FloatProgress(value=0.0, max=584.0), HTML(value='')))"
      ]
     },
     "metadata": {},
     "output_type": "display_data"
    },
    {
     "name": "stdout",
     "output_type": "stream",
     "text": [
      "\n",
      "vanilla,h,327,finetuned-nearai-1e-4\n"
     ]
    },
    {
     "data": {
      "application/vnd.jupyter.widget-view+json": {
       "model_id": "5b501fc5375045d7ac4383c45b3d0bb9",
       "version_major": 2,
       "version_minor": 0
      },
      "text/plain": [
       "HBox(children=(FloatProgress(value=0.0, max=832.0), HTML(value='')))"
      ]
     },
     "metadata": {},
     "output_type": "display_data"
    },
    {
     "name": "stdout",
     "output_type": "stream",
     "text": [
      "\n",
      "vanilla,h,327,finetuned-nearai32-1e-4\n"
     ]
    },
    {
     "data": {
      "application/vnd.jupyter.widget-view+json": {
       "model_id": "ee2e77213e9d4170837f9ecea6f3601c",
       "version_major": 2,
       "version_minor": 0
      },
      "text/plain": [
       "HBox(children=(FloatProgress(value=0.0, max=752.0), HTML(value='')))"
      ]
     },
     "metadata": {},
     "output_type": "display_data"
    },
    {
     "name": "stdout",
     "output_type": "stream",
     "text": [
      "\n"
     ]
    }
   ],
   "source": [
    "accuracies = [table_of_accuracies(x, pbar=tqdm.tqdm) for x in model_labels]\n",
    "accuracies = pd.concat(accuracies)"
   ]
  },
  {
   "cell_type": "code",
   "execution_count": 4,
   "metadata": {
    "scrolled": true
   },
   "outputs": [],
   "source": [
    "real_acs = get_for_baseline_models(accuracies, \"nearai\", \"nearai32\", \"egnps64\", \"egnpsgood\")"
   ]
  },
  {
   "cell_type": "code",
   "execution_count": 5,
   "metadata": {
    "scrolled": true
   },
   "outputs": [
    {
     "data": {
      "text/html": [
       "<div>\n",
       "<style scoped>\n",
       "    .dataframe tbody tr th:only-of-type {\n",
       "        vertical-align: middle;\n",
       "    }\n",
       "\n",
       "    .dataframe tbody tr th {\n",
       "        vertical-align: top;\n",
       "    }\n",
       "\n",
       "    .dataframe thead th {\n",
       "        text-align: right;\n",
       "    }\n",
       "</style>\n",
       "<table border=\"1\" class=\"dataframe\">\n",
       "  <thead>\n",
       "    <tr style=\"text-align: right;\">\n",
       "      <th></th>\n",
       "      <th>Model</th>\n",
       "      <th>Step</th>\n",
       "      <th>DataLabel</th>\n",
       "      <th>Accuracy</th>\n",
       "      <th>Exact</th>\n",
       "    </tr>\n",
       "  </thead>\n",
       "  <tbody>\n",
       "    <tr>\n",
       "      <th>760</th>\n",
       "      <td>aggregate-with-io-real-nearai-finetuned-1e-4</td>\n",
       "      <td>160100</td>\n",
       "      <td>egnpsgood,,greedy,,100,,start-with-beams</td>\n",
       "      <td>0.8944</td>\n",
       "      <td>0.4356</td>\n",
       "    </tr>\n",
       "    <tr>\n",
       "      <th>197</th>\n",
       "      <td>vanilla-real-nearai-finetuned-1e-4</td>\n",
       "      <td>260100</td>\n",
       "      <td>egnpsgood,,best_first,,50,,start-with-beams</td>\n",
       "      <td>0.8944</td>\n",
       "      <td>0.4364</td>\n",
       "    </tr>\n",
       "    <tr>\n",
       "      <th>1093</th>\n",
       "      <td>aggregate-with-io-real-nearai-finetuned-1e-4</td>\n",
       "      <td>10100</td>\n",
       "      <td>egnpsgood,,greedy,,100,,start-with-beams</td>\n",
       "      <td>0.8944</td>\n",
       "      <td>0.4352</td>\n",
       "    </tr>\n",
       "    <tr>\n",
       "      <th>283</th>\n",
       "      <td>aggregate-with-io-real-nearai32-finetuned-1e-4</td>\n",
       "      <td>21000</td>\n",
       "      <td>egnpsgood,,greedy,,100,,start-with-beams</td>\n",
       "      <td>0.8948</td>\n",
       "      <td>0.4344</td>\n",
       "    </tr>\n",
       "    <tr>\n",
       "      <th>590</th>\n",
       "      <td>aggregate-with-io-real-nearai-finetuned-1e-4</td>\n",
       "      <td>210100</td>\n",
       "      <td>egnpsgood,,greedy,,100,,start-with-beams</td>\n",
       "      <td>0.8948</td>\n",
       "      <td>0.4352</td>\n",
       "    </tr>\n",
       "    <tr>\n",
       "      <th>704</th>\n",
       "      <td>aggregate-with-io-real-nearai32-finetuned-1e-4</td>\n",
       "      <td>11000</td>\n",
       "      <td>egnpsgood,,best_first,,100,,start-with-beams</td>\n",
       "      <td>0.8948</td>\n",
       "      <td>0.4340</td>\n",
       "    </tr>\n",
       "    <tr>\n",
       "      <th>1040</th>\n",
       "      <td>aggregate-with-io-real-nearai-finetuned-1e-4</td>\n",
       "      <td>160100</td>\n",
       "      <td>egnpsgood,,best_first,,100,,start-with-beams</td>\n",
       "      <td>0.8948</td>\n",
       "      <td>0.4360</td>\n",
       "    </tr>\n",
       "    <tr>\n",
       "      <th>256</th>\n",
       "      <td>aggregate-with-io-real-nearai32-finetuned-1e-4</td>\n",
       "      <td>71000</td>\n",
       "      <td>egnpsgood,,best_first,,100,,start-with-beams</td>\n",
       "      <td>0.8948</td>\n",
       "      <td>0.4348</td>\n",
       "    </tr>\n",
       "    <tr>\n",
       "      <th>105</th>\n",
       "      <td>aggregate-with-io-real-nearai-finetuned-1e-4</td>\n",
       "      <td>260100</td>\n",
       "      <td>egnpsgood,,best_first,,100,,start-with-beams</td>\n",
       "      <td>0.8948</td>\n",
       "      <td>0.4352</td>\n",
       "    </tr>\n",
       "    <tr>\n",
       "      <th>293</th>\n",
       "      <td>aggregate-with-io-real-nearai32-finetuned-1e-4</td>\n",
       "      <td>11000</td>\n",
       "      <td>egnpsgood,,greedy,,100,,start-with-beams</td>\n",
       "      <td>0.8952</td>\n",
       "      <td>0.4344</td>\n",
       "    </tr>\n",
       "    <tr>\n",
       "      <th>50</th>\n",
       "      <td>aggregate-with-io-real-nearai-finetuned-1e-4</td>\n",
       "      <td>110100</td>\n",
       "      <td>egnpsgood,,greedy,,100,,start-with-beams</td>\n",
       "      <td>0.8952</td>\n",
       "      <td>0.4368</td>\n",
       "    </tr>\n",
       "    <tr>\n",
       "      <th>345</th>\n",
       "      <td>aggregate-with-io-real-nearai32-finetuned-1e-4</td>\n",
       "      <td>61000</td>\n",
       "      <td>egnpsgood,,best_first,,100,,start-with-beams</td>\n",
       "      <td>0.8952</td>\n",
       "      <td>0.4348</td>\n",
       "    </tr>\n",
       "    <tr>\n",
       "      <th>422</th>\n",
       "      <td>vanilla-real-nearai32-finetuned-1e-4</td>\n",
       "      <td>41000</td>\n",
       "      <td>egnpsgood,,best_first,,100,,start-with-beams</td>\n",
       "      <td>0.8952</td>\n",
       "      <td>0.4344</td>\n",
       "    </tr>\n",
       "    <tr>\n",
       "      <th>572</th>\n",
       "      <td>vanilla-real-nearai32-finetuned-1e-4</td>\n",
       "      <td>11000</td>\n",
       "      <td>egnpsgood,,best_first,,50,,start-with-beams</td>\n",
       "      <td>0.8952</td>\n",
       "      <td>0.4344</td>\n",
       "    </tr>\n",
       "    <tr>\n",
       "      <th>100</th>\n",
       "      <td>aggregate-with-io-real-nearai-finetuned-1e-4</td>\n",
       "      <td>260100</td>\n",
       "      <td>egnpsgood,,greedy,,100,,start-with-beams</td>\n",
       "      <td>0.8952</td>\n",
       "      <td>0.4344</td>\n",
       "    </tr>\n",
       "    <tr>\n",
       "      <th>241</th>\n",
       "      <td>aggregate-with-io-real-nearai32-finetuned-1e-4</td>\n",
       "      <td>21000</td>\n",
       "      <td>egnpsgood,,best_first,,100,,start-with-beams</td>\n",
       "      <td>0.8952</td>\n",
       "      <td>0.4344</td>\n",
       "    </tr>\n",
       "    <tr>\n",
       "      <th>254</th>\n",
       "      <td>vanilla-real-nearai-finetuned-1e-4</td>\n",
       "      <td>60100</td>\n",
       "      <td>egnpsgood,,best_first,,100,,start-with-beams</td>\n",
       "      <td>0.8956</td>\n",
       "      <td>0.4352</td>\n",
       "    </tr>\n",
       "    <tr>\n",
       "      <th>103</th>\n",
       "      <td>vanilla-real-nearai-finetuned-1e-4</td>\n",
       "      <td>260100</td>\n",
       "      <td>egnpsgood,,best_first,,100,,start-with-beams</td>\n",
       "      <td>0.8956</td>\n",
       "      <td>0.4364</td>\n",
       "    </tr>\n",
       "    <tr>\n",
       "      <th>418</th>\n",
       "      <td>aggregate-with-io-real-nearai-finetuned-1e-4</td>\n",
       "      <td>210100</td>\n",
       "      <td>egnpsgood,,best_first,,100,,start-with-beams</td>\n",
       "      <td>0.8956</td>\n",
       "      <td>0.4364</td>\n",
       "    </tr>\n",
       "    <tr>\n",
       "      <th>1093</th>\n",
       "      <td>vanilla-real-nearai-finetuned-1e-4</td>\n",
       "      <td>10100</td>\n",
       "      <td>egnpsgood,,best_first,,100,,start-with-beams</td>\n",
       "      <td>0.8956</td>\n",
       "      <td>0.4352</td>\n",
       "    </tr>\n",
       "    <tr>\n",
       "      <th>984</th>\n",
       "      <td>vanilla-real-nearai-finetuned-1e-4</td>\n",
       "      <td>160100</td>\n",
       "      <td>egnpsgood,,best_first,,100,,start-with-beams</td>\n",
       "      <td>0.8960</td>\n",
       "      <td>0.4360</td>\n",
       "    </tr>\n",
       "    <tr>\n",
       "      <th>287</th>\n",
       "      <td>vanilla-real-nearai32-finetuned-1e-4</td>\n",
       "      <td>61000</td>\n",
       "      <td>egnpsgood,,best_first,,100,,start-with-beams</td>\n",
       "      <td>0.8960</td>\n",
       "      <td>0.4348</td>\n",
       "    </tr>\n",
       "    <tr>\n",
       "      <th>708</th>\n",
       "      <td>vanilla-real-nearai-finetuned-1e-4</td>\n",
       "      <td>110100</td>\n",
       "      <td>egnpsgood,,best_first,,100,,start-with-beams</td>\n",
       "      <td>0.8960</td>\n",
       "      <td>0.4356</td>\n",
       "    </tr>\n",
       "    <tr>\n",
       "      <th>396</th>\n",
       "      <td>vanilla-real-nearai-finetuned-1e-4</td>\n",
       "      <td>210100</td>\n",
       "      <td>egnpsgood,,best_first,,100,,start-with-beams</td>\n",
       "      <td>0.8960</td>\n",
       "      <td>0.4364</td>\n",
       "    </tr>\n",
       "    <tr>\n",
       "      <th>217</th>\n",
       "      <td>vanilla-real-nearai32-finetuned-1e-4</td>\n",
       "      <td>71000</td>\n",
       "      <td>egnpsgood,,best_first,,100,,start-with-beams</td>\n",
       "      <td>0.8964</td>\n",
       "      <td>0.4348</td>\n",
       "    </tr>\n",
       "    <tr>\n",
       "      <th>158</th>\n",
       "      <td>vanilla-real-nearai32-finetuned-1e-4</td>\n",
       "      <td>51000</td>\n",
       "      <td>egnpsgood,,best_first,,100,,start-with-beams</td>\n",
       "      <td>0.8964</td>\n",
       "      <td>0.4344</td>\n",
       "    </tr>\n",
       "    <tr>\n",
       "      <th>203</th>\n",
       "      <td>vanilla-real-nearai32-finetuned-1e-4</td>\n",
       "      <td>21000</td>\n",
       "      <td>egnpsgood,,best_first,,100,,start-with-beams</td>\n",
       "      <td>0.8964</td>\n",
       "      <td>0.4340</td>\n",
       "    </tr>\n",
       "    <tr>\n",
       "      <th>241</th>\n",
       "      <td>vanilla-real-nearai32-finetuned-1e-4</td>\n",
       "      <td>81000</td>\n",
       "      <td>egnpsgood,,best_first,,100,,start-with-beams</td>\n",
       "      <td>0.8972</td>\n",
       "      <td>0.4348</td>\n",
       "    </tr>\n",
       "    <tr>\n",
       "      <th>27</th>\n",
       "      <td>vanilla-real-nearai32-finetuned-1e-4</td>\n",
       "      <td>91000</td>\n",
       "      <td>egnpsgood,,best_first,,100,,start-with-beams</td>\n",
       "      <td>0.8972</td>\n",
       "      <td>0.4344</td>\n",
       "    </tr>\n",
       "    <tr>\n",
       "      <th>581</th>\n",
       "      <td>vanilla-real-nearai32-finetuned-1e-4</td>\n",
       "      <td>11000</td>\n",
       "      <td>egnpsgood,,best_first,,100,,start-with-beams</td>\n",
       "      <td>0.8980</td>\n",
       "      <td>0.4344</td>\n",
       "    </tr>\n",
       "  </tbody>\n",
       "</table>\n",
       "</div>"
      ],
      "text/plain": [
       "                                               Model    Step  \\\n",
       "760     aggregate-with-io-real-nearai-finetuned-1e-4  160100   \n",
       "197               vanilla-real-nearai-finetuned-1e-4  260100   \n",
       "1093    aggregate-with-io-real-nearai-finetuned-1e-4   10100   \n",
       "283   aggregate-with-io-real-nearai32-finetuned-1e-4   21000   \n",
       "590     aggregate-with-io-real-nearai-finetuned-1e-4  210100   \n",
       "704   aggregate-with-io-real-nearai32-finetuned-1e-4   11000   \n",
       "1040    aggregate-with-io-real-nearai-finetuned-1e-4  160100   \n",
       "256   aggregate-with-io-real-nearai32-finetuned-1e-4   71000   \n",
       "105     aggregate-with-io-real-nearai-finetuned-1e-4  260100   \n",
       "293   aggregate-with-io-real-nearai32-finetuned-1e-4   11000   \n",
       "50      aggregate-with-io-real-nearai-finetuned-1e-4  110100   \n",
       "345   aggregate-with-io-real-nearai32-finetuned-1e-4   61000   \n",
       "422             vanilla-real-nearai32-finetuned-1e-4   41000   \n",
       "572             vanilla-real-nearai32-finetuned-1e-4   11000   \n",
       "100     aggregate-with-io-real-nearai-finetuned-1e-4  260100   \n",
       "241   aggregate-with-io-real-nearai32-finetuned-1e-4   21000   \n",
       "254               vanilla-real-nearai-finetuned-1e-4   60100   \n",
       "103               vanilla-real-nearai-finetuned-1e-4  260100   \n",
       "418     aggregate-with-io-real-nearai-finetuned-1e-4  210100   \n",
       "1093              vanilla-real-nearai-finetuned-1e-4   10100   \n",
       "984               vanilla-real-nearai-finetuned-1e-4  160100   \n",
       "287             vanilla-real-nearai32-finetuned-1e-4   61000   \n",
       "708               vanilla-real-nearai-finetuned-1e-4  110100   \n",
       "396               vanilla-real-nearai-finetuned-1e-4  210100   \n",
       "217             vanilla-real-nearai32-finetuned-1e-4   71000   \n",
       "158             vanilla-real-nearai32-finetuned-1e-4   51000   \n",
       "203             vanilla-real-nearai32-finetuned-1e-4   21000   \n",
       "241             vanilla-real-nearai32-finetuned-1e-4   81000   \n",
       "27              vanilla-real-nearai32-finetuned-1e-4   91000   \n",
       "581             vanilla-real-nearai32-finetuned-1e-4   11000   \n",
       "\n",
       "                                         DataLabel  Accuracy   Exact  \n",
       "760       egnpsgood,,greedy,,100,,start-with-beams    0.8944  0.4356  \n",
       "197    egnpsgood,,best_first,,50,,start-with-beams    0.8944  0.4364  \n",
       "1093      egnpsgood,,greedy,,100,,start-with-beams    0.8944  0.4352  \n",
       "283       egnpsgood,,greedy,,100,,start-with-beams    0.8948  0.4344  \n",
       "590       egnpsgood,,greedy,,100,,start-with-beams    0.8948  0.4352  \n",
       "704   egnpsgood,,best_first,,100,,start-with-beams    0.8948  0.4340  \n",
       "1040  egnpsgood,,best_first,,100,,start-with-beams    0.8948  0.4360  \n",
       "256   egnpsgood,,best_first,,100,,start-with-beams    0.8948  0.4348  \n",
       "105   egnpsgood,,best_first,,100,,start-with-beams    0.8948  0.4352  \n",
       "293       egnpsgood,,greedy,,100,,start-with-beams    0.8952  0.4344  \n",
       "50        egnpsgood,,greedy,,100,,start-with-beams    0.8952  0.4368  \n",
       "345   egnpsgood,,best_first,,100,,start-with-beams    0.8952  0.4348  \n",
       "422   egnpsgood,,best_first,,100,,start-with-beams    0.8952  0.4344  \n",
       "572    egnpsgood,,best_first,,50,,start-with-beams    0.8952  0.4344  \n",
       "100       egnpsgood,,greedy,,100,,start-with-beams    0.8952  0.4344  \n",
       "241   egnpsgood,,best_first,,100,,start-with-beams    0.8952  0.4344  \n",
       "254   egnpsgood,,best_first,,100,,start-with-beams    0.8956  0.4352  \n",
       "103   egnpsgood,,best_first,,100,,start-with-beams    0.8956  0.4364  \n",
       "418   egnpsgood,,best_first,,100,,start-with-beams    0.8956  0.4364  \n",
       "1093  egnpsgood,,best_first,,100,,start-with-beams    0.8956  0.4352  \n",
       "984   egnpsgood,,best_first,,100,,start-with-beams    0.8960  0.4360  \n",
       "287   egnpsgood,,best_first,,100,,start-with-beams    0.8960  0.4348  \n",
       "708   egnpsgood,,best_first,,100,,start-with-beams    0.8960  0.4356  \n",
       "396   egnpsgood,,best_first,,100,,start-with-beams    0.8960  0.4364  \n",
       "217   egnpsgood,,best_first,,100,,start-with-beams    0.8964  0.4348  \n",
       "158   egnpsgood,,best_first,,100,,start-with-beams    0.8964  0.4344  \n",
       "203   egnpsgood,,best_first,,100,,start-with-beams    0.8964  0.4340  \n",
       "241   egnpsgood,,best_first,,100,,start-with-beams    0.8972  0.4348  \n",
       "27    egnpsgood,,best_first,,100,,start-with-beams    0.8972  0.4344  \n",
       "581   egnpsgood,,best_first,,100,,start-with-beams    0.8980  0.4344  "
      ]
     },
     "execution_count": 5,
     "metadata": {},
     "output_type": "execute_result"
    }
   ],
   "source": [
    "real_acs.sort_values('Accuracy').iloc[-30:]"
   ]
  },
  {
   "cell_type": "code",
   "execution_count": 6,
   "metadata": {
    "scrolled": true
   },
   "outputs": [
    {
     "name": "stdout",
     "output_type": "stream",
     "text": [
      "vanilla,h,327 nearai,,greedy,,200\n",
      "vanilla,h,327 nearai,,best_first,,200\n",
      "vanilla-many-mutations nearai,,greedy,,50\n",
      "vanilla-many-mutations nearai,,greedy,,100\n",
      "vanilla-many-mutations nearai,,greedy,,200\n",
      "vanilla-many-mutations nearai,,best_first,,50\n",
      "vanilla-many-mutations nearai,,best_first,,100\n",
      "vanilla-many-mutations nearai,,best_first,,200\n",
      "aggregate-with-io-many-mutations nearai,,greedy,,50\n",
      "aggregate-with-io-many-mutations nearai,,greedy,,100\n",
      "aggregate-with-io-many-mutations nearai,,greedy,,200\n",
      "aggregate-with-io-many-mutations nearai,,best_first,,50\n",
      "aggregate-with-io-many-mutations nearai,,best_first,,100\n",
      "aggregate-with-io-many-mutations nearai,,best_first,,200\n",
      "vanilla,h,327,finetuned-nearai32-1e-4 nearai,,greedy,,200\n",
      "vanilla,h,327,finetuned-nearai32-1e-4 nearai,,best_first,,200\n",
      "vanilla,h,327,finetuned-nearai-1e-4 nearai,,greedy,,200\n",
      "vanilla,h,327,finetuned-nearai-1e-4 nearai,,best_first,,200\n",
      "vanilla,h,327 nearai32,,greedy,,100,,start-with-beams\n",
      "vanilla,h,327 nearai32,,greedy,,200,,start-with-beams\n",
      "vanilla,h,327 nearai32,,best_first,,200,,start-with-beams\n",
      "vanilla-many-mutations nearai32,,greedy,,5,,start-with-beams\n",
      "vanilla-many-mutations nearai32,,greedy,,10,,start-with-beams\n",
      "vanilla-many-mutations nearai32,,greedy,,25,,start-with-beams\n",
      "vanilla-many-mutations nearai32,,greedy,,50,,start-with-beams\n",
      "vanilla-many-mutations nearai32,,greedy,,100,,start-with-beams\n",
      "vanilla-many-mutations nearai32,,greedy,,200,,start-with-beams\n",
      "vanilla-many-mutations nearai32,,best_first,,50,,start-with-beams\n",
      "vanilla-many-mutations nearai32,,best_first,,100,,start-with-beams\n",
      "vanilla-many-mutations nearai32,,best_first,,200,,start-with-beams\n",
      "aggregate-with-io-many-mutations nearai32,,greedy,,5,,start-with-beams\n",
      "aggregate-with-io-many-mutations nearai32,,greedy,,10,,start-with-beams\n",
      "aggregate-with-io-many-mutations nearai32,,greedy,,25,,start-with-beams\n",
      "aggregate-with-io-many-mutations nearai32,,greedy,,50,,start-with-beams\n",
      "aggregate-with-io-many-mutations nearai32,,greedy,,100,,start-with-beams\n",
      "aggregate-with-io-many-mutations nearai32,,greedy,,200,,start-with-beams\n",
      "aggregate-with-io-many-mutations nearai32,,best_first,,50,,start-with-beams\n",
      "aggregate-with-io-many-mutations nearai32,,best_first,,100,,start-with-beams\n",
      "aggregate-with-io-many-mutations nearai32,,best_first,,200,,start-with-beams\n",
      "vanilla,h,327,finetuned-nearai32-1e-4 nearai32,,greedy,,200,,start-with-beams\n",
      "vanilla,h,327,finetuned-nearai32-1e-4 nearai32,,best_first,,200,,start-with-beams\n",
      "vanilla,h,327,finetuned-nearai-1e-4 nearai32,,greedy,,200,,start-with-beams\n",
      "vanilla,h,327,finetuned-nearai-1e-4 nearai32,,best_first,,200,,start-with-beams\n",
      "vanilla,h,327 egnps64,,greedy,,200,,start-with-beams\n",
      "vanilla,h,327 egnps64,,best_first,,200,,start-with-beams\n",
      "vanilla-many-mutations egnps64,,best_first,,1,,start-with-beams\n",
      "vanilla-many-mutations egnps64,,greedy,,5,,start-with-beams\n",
      "vanilla-many-mutations egnps64,,greedy,,10,,start-with-beams\n",
      "vanilla-many-mutations egnps64,,greedy,,25,,start-with-beams\n",
      "vanilla-many-mutations egnps64,,greedy,,50,,start-with-beams\n",
      "vanilla-many-mutations egnps64,,greedy,,100,,start-with-beams\n",
      "vanilla-many-mutations egnps64,,greedy,,200,,start-with-beams\n",
      "vanilla-many-mutations egnps64,,best_first,,1,,start-with-beams\n",
      "vanilla-many-mutations egnps64,,best_first,,5,,start-with-beams\n",
      "vanilla-many-mutations egnps64,,best_first,,10,,start-with-beams\n",
      "vanilla-many-mutations egnps64,,best_first,,25,,start-with-beams\n",
      "vanilla-many-mutations egnps64,,best_first,,50,,start-with-beams\n",
      "vanilla-many-mutations egnps64,,best_first,,100,,start-with-beams\n",
      "vanilla-many-mutations egnps64,,best_first,,200,,start-with-beams\n",
      "aggregate-with-io-many-mutations egnps64,,best_first,,1,,start-with-beams\n",
      "aggregate-with-io-many-mutations egnps64,,greedy,,5,,start-with-beams\n",
      "aggregate-with-io-many-mutations egnps64,,greedy,,10,,start-with-beams\n",
      "aggregate-with-io-many-mutations egnps64,,greedy,,25,,start-with-beams\n",
      "aggregate-with-io-many-mutations egnps64,,greedy,,50,,start-with-beams\n",
      "aggregate-with-io-many-mutations egnps64,,greedy,,100,,start-with-beams\n",
      "aggregate-with-io-many-mutations egnps64,,greedy,,200,,start-with-beams\n",
      "aggregate-with-io-many-mutations egnps64,,best_first,,1,,start-with-beams\n",
      "aggregate-with-io-many-mutations egnps64,,best_first,,5,,start-with-beams\n",
      "aggregate-with-io-many-mutations egnps64,,best_first,,10,,start-with-beams\n",
      "aggregate-with-io-many-mutations egnps64,,best_first,,25,,start-with-beams\n",
      "aggregate-with-io-many-mutations egnps64,,best_first,,50,,start-with-beams\n",
      "aggregate-with-io-many-mutations egnps64,,best_first,,100,,start-with-beams\n",
      "aggregate-with-io-many-mutations egnps64,,best_first,,200,,start-with-beams\n",
      "vanilla,h,327,finetuned-nearai32-1e-4 egnps64,,greedy,,200,,start-with-beams\n",
      "vanilla,h,327,finetuned-nearai32-1e-4 egnps64,,best_first,,200,,start-with-beams\n",
      "vanilla,h,327,finetuned-nearai-1e-4 egnps64,,greedy,,200,,start-with-beams\n",
      "vanilla,h,327,finetuned-nearai-1e-4 egnps64,,best_first,,200,,start-with-beams\n",
      "vanilla egnpsgood,,greedy,,200,,start-with-beams\n",
      "vanilla egnpsgood,,best_first,,200,,start-with-beams\n",
      "vanilla,h,327 egnpsgood,,best_first,,1,,start-with-beams\n",
      "vanilla,h,327 egnpsgood,,greedy,,5,,start-with-beams\n",
      "vanilla,h,327 egnpsgood,,greedy,,10,,start-with-beams\n",
      "vanilla,h,327 egnpsgood,,greedy,,25,,start-with-beams\n",
      "vanilla,h,327 egnpsgood,,greedy,,50,,start-with-beams\n",
      "vanilla,h,327 egnpsgood,,greedy,,100,,start-with-beams\n",
      "vanilla,h,327 egnpsgood,,greedy,,200,,start-with-beams\n",
      "vanilla,h,327 egnpsgood,,best_first,,1,,start-with-beams\n",
      "vanilla,h,327 egnpsgood,,best_first,,5,,start-with-beams\n",
      "vanilla,h,327 egnpsgood,,best_first,,10,,start-with-beams\n",
      "vanilla,h,327 egnpsgood,,best_first,,25,,start-with-beams\n",
      "vanilla,h,327 egnpsgood,,best_first,,50,,start-with-beams\n",
      "vanilla,h,327 egnpsgood,,best_first,,100,,start-with-beams\n",
      "vanilla,h,327 egnpsgood,,best_first,,200,,start-with-beams\n",
      "vanilla,h,327 egnpsgood\n",
      "aggregate-with-io-real-nearai32-finetuned-1e-4 egnpsgood,,greedy,,200,,start-with-beams\n",
      "aggregate-with-io-real-nearai32-finetuned-1e-4 egnpsgood,,best_first,,200,,start-with-beams\n",
      "vanilla-real-nearai-finetuned-1e-4 egnpsgood,,greedy,,200,,start-with-beams\n",
      "vanilla-real-nearai-finetuned-1e-4 egnpsgood,,best_first,,200,,start-with-beams\n",
      "vanilla-many-mutations egnpsgood,,best_first,,1,,start-with-beams\n",
      "vanilla-many-mutations egnpsgood,,greedy,,5,,start-with-beams\n",
      "vanilla-many-mutations egnpsgood,,greedy,,10,,start-with-beams\n",
      "vanilla-many-mutations egnpsgood,,greedy,,25,,start-with-beams\n",
      "vanilla-many-mutations egnpsgood,,greedy,,50,,start-with-beams\n",
      "vanilla-many-mutations egnpsgood,,greedy,,100,,start-with-beams\n",
      "vanilla-many-mutations egnpsgood,,greedy,,200,,start-with-beams\n",
      "vanilla-many-mutations egnpsgood,,best_first,,1,,start-with-beams\n",
      "vanilla-many-mutations egnpsgood,,best_first,,5,,start-with-beams\n",
      "vanilla-many-mutations egnpsgood,,best_first,,10,,start-with-beams\n",
      "vanilla-many-mutations egnpsgood,,best_first,,25,,start-with-beams\n",
      "vanilla-many-mutations egnpsgood,,best_first,,50,,start-with-beams\n",
      "vanilla-many-mutations egnpsgood,,best_first,,100,,start-with-beams\n",
      "vanilla-many-mutations egnpsgood,,best_first,,200,,start-with-beams\n",
      "vanilla-many-mutations egnpsgood\n",
      "aggregate-with-io-many-mutations egnpsgood,,best_first,,1,,start-with-beams\n",
      "aggregate-with-io-many-mutations egnpsgood,,greedy,,5,,start-with-beams\n",
      "aggregate-with-io-many-mutations egnpsgood,,greedy,,10,,start-with-beams\n",
      "aggregate-with-io-many-mutations egnpsgood,,greedy,,25,,start-with-beams\n",
      "aggregate-with-io-many-mutations egnpsgood,,greedy,,50,,start-with-beams\n",
      "aggregate-with-io-many-mutations egnpsgood,,greedy,,100,,start-with-beams\n",
      "aggregate-with-io-many-mutations egnpsgood,,greedy,,200,,start-with-beams\n",
      "aggregate-with-io-many-mutations egnpsgood,,best_first,,1,,start-with-beams\n",
      "aggregate-with-io-many-mutations egnpsgood,,best_first,,5,,start-with-beams\n",
      "aggregate-with-io-many-mutations egnpsgood,,best_first,,10,,start-with-beams\n",
      "aggregate-with-io-many-mutations egnpsgood,,best_first,,25,,start-with-beams\n",
      "aggregate-with-io-many-mutations egnpsgood,,best_first,,50,,start-with-beams\n",
      "aggregate-with-io-many-mutations egnpsgood,,best_first,,100,,start-with-beams\n",
      "aggregate-with-io-many-mutations egnpsgood,,best_first,,200,,start-with-beams\n",
      "aggregate-with-io-many-mutations egnpsgood\n",
      "vanilla,h,327,finetuned-nearai32-1e-4 egnpsgood,,best_first,,1,,start-with-beams\n",
      "vanilla,h,327,finetuned-nearai32-1e-4 egnpsgood,,greedy,,5,,start-with-beams\n",
      "vanilla,h,327,finetuned-nearai32-1e-4 egnpsgood,,greedy,,10,,start-with-beams\n",
      "vanilla,h,327,finetuned-nearai32-1e-4 egnpsgood,,greedy,,25,,start-with-beams\n",
      "vanilla,h,327,finetuned-nearai32-1e-4 egnpsgood,,greedy,,50,,start-with-beams\n",
      "vanilla,h,327,finetuned-nearai32-1e-4 egnpsgood,,greedy,,100,,start-with-beams\n",
      "vanilla,h,327,finetuned-nearai32-1e-4 egnpsgood,,greedy,,200,,start-with-beams\n",
      "vanilla,h,327,finetuned-nearai32-1e-4 egnpsgood,,best_first,,1,,start-with-beams\n",
      "vanilla,h,327,finetuned-nearai32-1e-4 egnpsgood,,best_first,,5,,start-with-beams\n",
      "vanilla,h,327,finetuned-nearai32-1e-4 egnpsgood,,best_first,,10,,start-with-beams\n",
      "vanilla,h,327,finetuned-nearai32-1e-4 egnpsgood,,best_first,,25,,start-with-beams\n",
      "vanilla,h,327,finetuned-nearai32-1e-4 egnpsgood,,best_first,,50,,start-with-beams\n",
      "vanilla,h,327,finetuned-nearai32-1e-4 egnpsgood,,best_first,,100,,start-with-beams\n",
      "vanilla,h,327,finetuned-nearai32-1e-4 egnpsgood,,best_first,,200,,start-with-beams\n",
      "vanilla,h,327,finetuned-nearai32-1e-4 egnpsgood\n",
      "aggregate-with-io-real-nearai-finetuned-1e-4 egnpsgood,,greedy,,200,,start-with-beams\n",
      "aggregate-with-io-real-nearai-finetuned-1e-4 egnpsgood,,best_first,,200,,start-with-beams\n",
      "vanilla-real-nearai32-finetuned-1e-4 egnpsgood,,greedy,,200,,start-with-beams\n",
      "vanilla-real-nearai32-finetuned-1e-4 egnpsgood,,best_first,,200,,start-with-beams\n"
     ]
    },
    {
     "name": "stdout",
     "output_type": "stream",
     "text": [
      "vanilla,h,327,finetuned-nearai-1e-4 egnpsgood,,best_first,,1,,start-with-beams\n",
      "vanilla,h,327,finetuned-nearai-1e-4 egnpsgood,,greedy,,5,,start-with-beams\n",
      "vanilla,h,327,finetuned-nearai-1e-4 egnpsgood,,greedy,,10,,start-with-beams\n",
      "vanilla,h,327,finetuned-nearai-1e-4 egnpsgood,,greedy,,25,,start-with-beams\n",
      "vanilla,h,327,finetuned-nearai-1e-4 egnpsgood,,greedy,,50,,start-with-beams\n",
      "vanilla,h,327,finetuned-nearai-1e-4 egnpsgood,,greedy,,100,,start-with-beams\n",
      "vanilla,h,327,finetuned-nearai-1e-4 egnpsgood,,greedy,,200,,start-with-beams\n",
      "vanilla,h,327,finetuned-nearai-1e-4 egnpsgood,,best_first,,1,,start-with-beams\n",
      "vanilla,h,327,finetuned-nearai-1e-4 egnpsgood,,best_first,,5,,start-with-beams\n",
      "vanilla,h,327,finetuned-nearai-1e-4 egnpsgood,,best_first,,10,,start-with-beams\n",
      "vanilla,h,327,finetuned-nearai-1e-4 egnpsgood,,best_first,,25,,start-with-beams\n",
      "vanilla,h,327,finetuned-nearai-1e-4 egnpsgood,,best_first,,50,,start-with-beams\n",
      "vanilla,h,327,finetuned-nearai-1e-4 egnpsgood,,best_first,,100,,start-with-beams\n",
      "vanilla,h,327,finetuned-nearai-1e-4 egnpsgood,,best_first,,200,,start-with-beams\n",
      "vanilla,h,327,finetuned-nearai-1e-4 egnpsgood\n",
      "aggregate-with-io egnpsgood,,greedy,,200,,start-with-beams\n",
      "aggregate-with-io egnpsgood,,best_first,,200,,start-with-beams\n"
     ]
    }
   ],
   "source": [
    "topline = separate_strategies(real_acs)\n",
    "topline.to_csv(\"/home/kavigupta/topline.csv\")"
   ]
  },
  {
   "cell_type": "code",
   "execution_count": 7,
   "metadata": {},
   "outputs": [],
   "source": [
    "topline_by_k = by_k(topline)\n",
    "topline_by_k.to_csv('/home/kavigupta/topline_by_k.csv')"
   ]
  },
  {
   "cell_type": "code",
   "execution_count": 7,
   "metadata": {},
   "outputs": [],
   "source": [
    "just_max_step = by_max_step(accuracies)"
   ]
  },
  {
   "cell_type": "code",
   "execution_count": 8,
   "metadata": {
    "scrolled": true
   },
   "outputs": [],
   "source": [
    "def get_accuracies(model, data_source, data_label=None):\n",
    "    selected_rows = (accuracies.Model == model) & (accuracies.DataSource == data_source)\n",
    "    if data_label is not None:\n",
    "        selected_rows &= accuracies.DataLabel == data_label\n",
    "    return accuracies[selected_rows].pivot(index='Step', columns='DataLabel', values='Accuracy')\n",
    "def plot_combined_accuracy(table, label, allowed_cols=None):\n",
    "    if not table.index.size:\n",
    "        return\n",
    "    cols = sorted(table.columns)\n",
    "    if allowed_cols is not None:\n",
    "        cols = sorted(set(cols) & set(allowed_cols))\n",
    "    result = sum(table[col] for col in cols) * 100 / len(cols)\n",
    "    plt.plot(result, \".-\", label=label)\n",
    "    plt.xlabel(\"Step\")\n",
    "    plt.ylabel(\"Accuracy [%]\")\n",
    "    plt.legend()"
   ]
  },
  {
   "cell_type": "code",
   "execution_count": 9,
   "metadata": {},
   "outputs": [],
   "source": [
    "def get_errors_by_k(topline, synthesizer, use_trace, finetune, strategy):\n",
    "    model = {True: \"aggregate-with-io\", False: \"vanilla\"}[use_trace]\n",
    "    if finetune:\n",
    "        model += f\"-real-{'nearai32' if synthesizer == 'egnps64' else synthesizer}-finetuned-1e-4\"\n",
    "    errors = []\n",
    "    for k in K_VALS:\n",
    "        res = topline[\n",
    "            (topline.model == model)\n",
    "                & (topline.strategy == strategy)\n",
    "                & (topline.synthesizer == synthesizer)\n",
    "                & (topline['debugger steps'] == k)]\n",
    "        count = len(list(res.iterrows()))\n",
    "        assert count <= 1\n",
    "        if count == 0:\n",
    "            errors.append((float('nan'), float('nan')))\n",
    "        else:\n",
    "            errors.append((res.iloc[0]['gen error'], res.iloc[0]['exact error']))\n",
    "    return errors\n",
    "def generalization_errors(topline, synthesizer, use_trace, finetune, strategy, max_k=100):\n",
    "    errs = get_errors_by_k(topline, synthesizer, use_trace, finetune, strategy)\n",
    "    errs = errs[:1 + K_VALS.index(max_k)]\n",
    "    errs = [x for x, _ in errs]\n",
    "    return errs"
   ]
  },
  {
   "cell_type": "code",
   "execution_count": 10,
   "metadata": {},
   "outputs": [],
   "source": [
    "def display_errors(total, exact):\n",
    "    if np.isnan(total) or np.isnan(exact):\n",
    "        return \"-\"\n",
    "    def display_error(x):\n",
    "        return \"{:.2f}%\".format(x)\n",
    "    return \"{} ({})\".format(display_error(total), display_error(exact))"
   ]
  },
  {
   "cell_type": "code",
   "execution_count": 11,
   "metadata": {},
   "outputs": [],
   "source": [
    "SYNTHESIZERS = \"nearai\", \"nearai32\", \"egnps64\""
   ]
  },
  {
   "cell_type": "code",
   "execution_count": 29,
   "metadata": {},
   "outputs": [],
   "source": [
    "k = 200\n",
    "columns = [\"Synthesizer\", \"Without Debugger\", \"No TraceEmbed+No Finetune\", \"No TraceEmbed+Finetune\", \"TraceEmbed+No Finetune\", \"TraceEmbed+Finetune\"]\n",
    "df = []\n",
    "for synthesizer in SYNTHESIZERS:\n",
    "    row = [to_display_name(synthesizer)]\n",
    "    row.append(display_errors(\n",
    "        100 * (1 - get_baseline_stats(synthesizer)['correct'] / 2500),\n",
    "        100 * (1 - get_baseline_stats(synthesizer)['exact'] / 2500),\n",
    "    ))\n",
    "    for trace in False, True:\n",
    "        for finetune in False, True:\n",
    "            total, exact = get_errors_by_k(topline, synthesizer, trace, finetune, \"B\")[K_VALS.index(k)]\n",
    "            row.append(display_errors(total, exact))\n",
    "    df.append(row)\n",
    "df = pd.DataFrame(df, columns=columns)\n",
    "df = df.set_index(\"Synthesizer\")"
   ]
  },
  {
   "cell_type": "code",
   "execution_count": 30,
   "metadata": {},
   "outputs": [
    {
     "data": {
      "text/html": [
       "<div>\n",
       "<style scoped>\n",
       "    .dataframe tbody tr th:only-of-type {\n",
       "        vertical-align: middle;\n",
       "    }\n",
       "\n",
       "    .dataframe tbody tr th {\n",
       "        vertical-align: top;\n",
       "    }\n",
       "\n",
       "    .dataframe thead th {\n",
       "        text-align: right;\n",
       "    }\n",
       "</style>\n",
       "<table border=\"1\" class=\"dataframe\">\n",
       "  <thead>\n",
       "    <tr style=\"text-align: right;\">\n",
       "      <th>Synthesizer</th>\n",
       "      <th>LGRL-GD</th>\n",
       "      <th>LGRL</th>\n",
       "      <th>EGNPS</th>\n",
       "    </tr>\n",
       "  </thead>\n",
       "  <tbody>\n",
       "    <tr>\n",
       "      <th>Without Debugger</th>\n",
       "      <td>39.00% (65.72%)</td>\n",
       "      <td>22.00% (63.40%)</td>\n",
       "      <td>19.40% (56.24%)</td>\n",
       "    </tr>\n",
       "    <tr>\n",
       "      <th>No TraceEmbed+No Finetune</th>\n",
       "      <td>17.76% (63.00%)</td>\n",
       "      <td>14.52% (62.72%)</td>\n",
       "      <td>11.24% (53.96%)</td>\n",
       "    </tr>\n",
       "    <tr>\n",
       "      <th>No TraceEmbed+Finetune</th>\n",
       "      <td>15.24% (60.80%)</td>\n",
       "      <td>13.72% (62.48%)</td>\n",
       "      <td>10.92% (53.76%)</td>\n",
       "    </tr>\n",
       "    <tr>\n",
       "      <th>TraceEmbed+No Finetune</th>\n",
       "      <td>17.68% (63.40%)</td>\n",
       "      <td>14.12% (62.88%)</td>\n",
       "      <td>10.84% (54.08%)</td>\n",
       "    </tr>\n",
       "    <tr>\n",
       "      <th>TraceEmbed+Finetune</th>\n",
       "      <td>15.16% (61.24%)</td>\n",
       "      <td>13.52% (62.68%)</td>\n",
       "      <td>11.04% (53.48%)</td>\n",
       "    </tr>\n",
       "  </tbody>\n",
       "</table>\n",
       "</div>"
      ],
      "text/plain": [
       "Synthesizer                        LGRL-GD             LGRL            EGNPS\n",
       "Without Debugger           39.00% (65.72%)  22.00% (63.40%)  19.40% (56.24%)\n",
       "No TraceEmbed+No Finetune  17.76% (63.00%)  14.52% (62.72%)  11.24% (53.96%)\n",
       "No TraceEmbed+Finetune     15.24% (60.80%)  13.72% (62.48%)  10.92% (53.76%)\n",
       "TraceEmbed+No Finetune     17.68% (63.40%)  14.12% (62.88%)  10.84% (54.08%)\n",
       "TraceEmbed+Finetune        15.16% (61.24%)  13.52% (62.68%)  11.04% (53.48%)"
      ]
     },
     "execution_count": 30,
     "metadata": {},
     "output_type": "execute_result"
    }
   ],
   "source": [
    "df.T"
   ]
  },
  {
   "cell_type": "code",
   "execution_count": 14,
   "metadata": {},
   "outputs": [
    {
     "name": "stdout",
     "output_type": "stream",
     "text": [
      "\\begin{tabular}{llll}\n",
      "\\toprule\n",
      "Synthesizer &          LGRL-GD &             LGRL &            EGNPS \\\\\n",
      "\\midrule\n",
      "Without Debugger          &  39.00\\% (65.72\\%) &  22.00\\% (63.40\\%) &  19.40\\% (56.24\\%) \\\\\n",
      "No TraceEmbed+No Finetune &  18.72\\% (63.12\\%) &  14.92\\% (62.80\\%) &  11.68\\% (54.16\\%) \\\\\n",
      "No TraceEmbed+Finetune    &  16.20\\% (60.92\\%) &  14.32\\% (62.48\\%) &  11.12\\% (53.76\\%) \\\\\n",
      "TraceEmbed+No Finetune    &  18.80\\% (63.76\\%) &  14.60\\% (62.88\\%) &  11.48\\% (54.12\\%) \\\\\n",
      "TraceEmbed+Finetune       &  16.32\\% (61.28\\%) &  14.28\\% (62.68\\%) &  11.36\\% (53.52\\%) \\\\\n",
      "\\bottomrule\n",
      "\\end{tabular}\n",
      "\n"
     ]
    }
   ],
   "source": [
    "print(df.T.to_latex())"
   ]
  },
  {
   "cell_type": "code",
   "execution_count": 15,
   "metadata": {},
   "outputs": [
    {
     "data": {
      "image/png": "[encoded data removed]",
      "text/plain": [
       "<Figure size 720x216 with 3 Axes>"
      ]
     },
     "metadata": {
      "needs_background": "light"
     },
     "output_type": "display_data"
    }
   ],
   "source": [
    "fig, axs = plt.subplots(1, 3, figsize=(10, 3), constrained_layout=True)\n",
    "for ax, synthesizer in zip(axs, SYNTHESIZERS):\n",
    "    ax.plot(K_VALS[:-1], generalization_errors(\n",
    "        topline, synthesizer, True, True, \"B\"), marker='*',\n",
    "            label=\"Best First\")\n",
    "    ax.plot(K_VALS[:-1], generalization_errors(\n",
    "        topline, synthesizer, True, True, \"G\"), marker='*',\n",
    "            label=\"Greedy\")\n",
    "    ax.set_title(to_display_name(synthesizer))\n",
    "    ax.set_xlabel(\"Number of editing steps\")\n",
    "    ax.set_ylabel(\"Generalization Error [%]\")\n",
    "    ax.set_xscale('log')\n",
    "    ax.set_xticks(K_VALS[:-1])\n",
    "    ax.get_xaxis().set_major_formatter(mpl.ticker.ScalarFormatter())\n",
    "axs[0].legend()\n",
    "fig.suptitle(\"Search Strategy Comparison\")\n",
    "plt.savefig(\"img/search_strategy_compare.png\")"
   ]
  },
  {
   "cell_type": "code",
   "execution_count": 16,
   "metadata": {},
   "outputs": [
    {
     "data": {
      "image/png": "[encoded data removed]",
      "text/plain": [
       "<Figure size 720x216 with 3 Axes>"
      ]
     },
     "metadata": {
      "needs_background": "light"
     },
     "output_type": "display_data"
    }
   ],
   "source": [
    "fig, axs = plt.subplots(1, 3, figsize=(10, 3), constrained_layout=True)\n",
    "for ax, synthesizer in zip(axs, SYNTHESIZERS):\n",
    "    if synthesizer.startswith(\"nearai\"):\n",
    "        ax.plot(K_VALS[:-1], generalization_errors(\n",
    "            topline, synthesizer, True, True, \"B\"), marker='*', color=cycle[0],\n",
    "                label=\"TE+F\")\n",
    "        ax.plot(K_VALS[:-1], generalization_errors(\n",
    "            topline, synthesizer, False, True, \"B\"), marker='*', linestyle='--', color=cycle[0],\n",
    "                label=\"No TE+F\")\n",
    "    ax.plot(K_VALS[:-1], generalization_errors(\n",
    "        topline, synthesizer, True, False, \"B\"), marker='*', color=cycle[1],\n",
    "            label=\"TE+No F\")\n",
    "    ax.plot(K_VALS[:-1], generalization_errors(\n",
    "        topline, synthesizer, False, False, \"B\"), marker='*', linestyle='--', color=cycle[1],\n",
    "            label=\"No TE+No F\")\n",
    "    ax.set_title(to_display_name(synthesizer))\n",
    "    ax.set_xlabel(\"Number of editing steps\")\n",
    "    ax.set_ylabel(\"Generalization Error [%]\")\n",
    "    ax.set_xscale('log')\n",
    "    ax.set_xticks(K_VALS[:-1])\n",
    "    ax.get_xaxis().set_major_formatter(mpl.ticker.ScalarFormatter())\n",
    "axs[0].legend()\n",
    "# fig.suptitle(\"Finetuning Comparison\")\n",
    "plt.savefig(\"img/arch_finetune_compare.png\")"
   ]
  },
  {
   "cell_type": "code",
   "execution_count": 17,
   "metadata": {},
   "outputs": [],
   "source": [
    "# # temporary for thesis draft\n",
    "# plt.figure(figsize=(7, 5))\n",
    "# plt.title(\"Val Results on Mutation Dataset\")\n",
    "# for model in \"vanilla\", \"aggregate-standard\", \"aggregate-with-io\":\n",
    "#     plot_combined_accuracy(get_accuracies(model, 'eval'), model.replace('-', ' ').title())\n",
    "\n",
    "# plt.xlim(5 * 10 ** 4, 10 ** 6)\n",
    "# plt.ylabel(\"% of programs that pass all given test cases\")\n",
    "# plt.show()"
   ]
  },
  {
   "cell_type": "code",
   "execution_count": 18,
   "metadata": {},
   "outputs": [],
   "source": [
    "# # temporary for thesis draft\n",
    "# plt.figure(figsize=(7, 5))\n",
    "# plt.title(\"Val Results on Mutation Dataset\")\n",
    "# for model in model_labels:\n",
    "#     if \"finetuned\" in model and \"1e-4\" in model:\n",
    "#         plot_combined_accuracy(get_accuracies(model, 'eval'), model.replace('-', ' ').title())\n",
    "\n",
    "# plt.ylabel(\"% of programs that pass all given test cases\")\n",
    "# plt.show()\n",
    "# plt.figure(figsize=(7, 5))\n",
    "# plt.title(\"Val Results on Real Dataset\")\n",
    "# for model in model_labels:\n",
    "#     if \"finetuned\" in model and \"1e-4\" in model:\n",
    "#         plot_combined_accuracy(get_accuracies(model, 'real', 'nearai'), model.replace('-', ' ').title())\n",
    "\n",
    "# plt.ylabel(\"% of programs that pass all given test cases\")\n",
    "# plt.show()"
   ]
  },
  {
   "cell_type": "code",
   "execution_count": 19,
   "metadata": {},
   "outputs": [],
   "source": [
    "acs = accuracies\n",
    "acs = by_max_acc(acs)\n",
    "df = []\n",
    "by_config = {}\n",
    "by_config_ex = {}\n",
    "for arch in \"aggregate-with-io\", \"vanilla\":\n",
    "    for many_mutations in True, False:\n",
    "        model = arch + \"-many-mutations\" * many_mutations\n",
    "        gen_errors = []\n",
    "        exact_errors = []\n",
    "        for mut in range(1, 6):\n",
    "            label = \",\".join('0' * (mut - 1) + '1')\n",
    "            row = acs[(acs.DataSource == 'eval') & (acs.Model == model) & (acs.DataLabel == label)]\n",
    "            count = list(row.iterrows())\n",
    "            assert len(count) <= 1\n",
    "            if count == 0:\n",
    "                res = float('nan'), float('nan')\n",
    "            else:\n",
    "                res = 100 * (1 - row.iloc[0].Accuracy), 100 * (1 - row.iloc[0].Exact)\n",
    "            gen_errors.append(res[0])\n",
    "            exact_errors.append(res[1])\n",
    "            df.append([arch == \"aggregate-with-io\", many_mutations, mut, *res])\n",
    "        by_config[arch==\"aggregate-with-io\", many_mutations] = gen_errors\n",
    "        by_config_ex[arch==\"aggregate-with-io\", many_mutations] = exact_errors\n",
    "df = pd.DataFrame(df, columns=[\"Trace?\", \"5 muts?\", \"# eval muts\", \"Gen Error\", \"Exact Error\"])"
   ]
  },
  {
   "cell_type": "code",
   "execution_count": 20,
   "metadata": {},
   "outputs": [],
   "source": [
    "def bar_chart_with_numbers(ax, xs, ys, width, *, hatch=None, label, color):\n",
    "    ax.bar(xs, ys, width, hatch=hatch, label=label, color=color)\n",
    "    for x, y in zip(xs, ys):\n",
    "        ax.text(x - width * 0.3, y + 2, \"{:.1f}\".format(y), color=color, rotation=90, size=8, fontweight='bold')"
   ]
  },
  {
   "cell_type": "code",
   "execution_count": 21,
   "metadata": {},
   "outputs": [
    {
     "data": {
      "image/png": "[encoded data removed]",
      "text/plain": [
       "<Figure size 576x288 with 2 Axes>"
      ]
     },
     "metadata": {
      "needs_background": "light"
     },
     "output_type": "display_data"
    }
   ],
   "source": [
    "fig, (ax1, ax2) = plt.subplots(1, 2, figsize=(8, 4), constrained_layout=1)\n",
    "bar_chart_with_numbers(ax1, np.arange(1, 6) - 0.3, by_config[False, False], 0.2, hatch='o',\n",
    "         label=\"No TraceEmbed 3\", color=cycle[0])\n",
    "bar_chart_with_numbers(ax1, np.arange(1, 6) - 0.1, by_config[False, True], 0.2, hatch='o',\n",
    "         label=\"No TraceEmbed 5\", color=cycle[1])\n",
    "bar_chart_with_numbers(ax1, np.arange(1, 6) + 0.1, by_config[True, False], 0.2,\n",
    "         label=\"TraceEmbed 3\", color=cycle[0])\n",
    "bar_chart_with_numbers(ax1, np.arange(1, 6) + 0.3, by_config[True, True], 0.2,\n",
    "         label=\"TraceEmbed 5\", color=cycle[1])\n",
    "ax1.legend()\n",
    "ax1.set_ylim(0, 40)\n",
    "ax1.set_xticks(range(1, 6))\n",
    "ax1.set_xlabel(\"Number of Mutations\")\n",
    "ax1.set_ylabel(\"Generalization Error [%]\")\n",
    "\n",
    "bar_chart_with_numbers(ax2, np.arange(1, 6) - 0.3, by_config_ex[False, False], 0.2, hatch='o',\n",
    "         label=\"No TraceEmbed on 3\", color=cycle[0])\n",
    "bar_chart_with_numbers(ax2, np.arange(1, 6) - 0.1, by_config_ex[False, True], 0.2, hatch='o',\n",
    "         label=\"No TraceEmbed on 5\", color=cycle[1])\n",
    "bar_chart_with_numbers(ax2, np.arange(1, 6) + 0.1, by_config_ex[True, False], 0.2,\n",
    "         label=\"TraceEmbed on 3\", color=cycle[0])\n",
    "bar_chart_with_numbers(ax2, np.arange(1, 6) + 0.3, by_config_ex[True, True], 0.2,\n",
    "         label=\"TraceEmbed on 5\", color=cycle[1])\n",
    "ax2.set_ylim(0, 75)\n",
    "ax2.set_xticks(range(1, 6))\n",
    "ax2.set_xlabel(\"Number of Mutations\")\n",
    "ax2.set_ylabel(\"Exact Error [%]\")\n",
    "fig.suptitle(\"Mutation Benchmark for Program Repair\")\n",
    "plt.savefig(\"img/program_repair_benchmark.png\", dpi=300, bbox_inches='tight')\n",
    "plt.show()"
   ]
  },
  {
   "cell_type": "code",
   "execution_count": null,
   "metadata": {},
   "outputs": [],
   "source": []
  },
  {
   "cell_type": "code",
   "execution_count": 22,
   "metadata": {},
   "outputs": [],
   "source": [
    "@lru_cache(None)\n",
    "def get_distances(eval_path):\n",
    "    with open(eval_path) as f:\n",
    "        results = [json.loads(line) for line in f][1:]\n",
    "    df = []\n",
    "    for r in results:\n",
    "        gold, ref, generated = r['example']['code'], r['example']['ref']['code'], r['code']['code_sequence']\n",
    "        correct = r['stats']['correct'] == 6\n",
    "        df.append([\n",
    "            editdistance.eval(gold, ref),\n",
    "            editdistance.eval(gold, generated),\n",
    "            editdistance.eval(generated, ref),\n",
    "            correct\n",
    "        ])\n",
    "    return pd.DataFrame(df, columns=[\"d(gold, ref)\", \"d(gold, pred)\", \"d(pred, ref)\", \"correct\"])"
   ]
  },
  {
   "cell_type": "code",
   "execution_count": 23,
   "metadata": {},
   "outputs": [],
   "source": [
    "path_fmt = \"../logdirs/aggregate-with-io,trace_enc==aggregate:conv_all_grids=True,batch_size==64,lr==1,lr_decay_steps=100000/report-dev-m{}-1000100-{}.jsonl\""
   ]
  },
  {
   "cell_type": "code",
   "execution_count": 31,
   "metadata": {},
   "outputs": [
    {
     "data": {
      "image/png": "[encoded data removed]",
      "text/plain": [
       "<Figure size 720x216 with 3 Axes>"
      ]
     },
     "metadata": {
      "needs_background": "light"
     },
     "output_type": "display_data"
    }
   ],
   "source": [
    "df = get_distances(path_fmt.format(\"nearai32,,best_first,,200,,start-with-beams\", \"real\"))\n",
    "fig, (ax3, ax1, ax2) = plt.subplots(1, 3, figsize=(10, 3), constrained_layout=True)\n",
    "ax1.scatter(\n",
    "    df[df.correct == 1]['d(pred, ref)'],\n",
    "    df[df.correct == 1]['d(gold, ref)'],\n",
    "    alpha=0.25\n",
    ")\n",
    "ax1.set_xlabel(\"d(init, pred)\")\n",
    "ax1.set_ylabel(\"d(init, gold)\")\n",
    "ax1.plot([0, 30], [0, 30], \"--\", color=\"black\")\n",
    "ax1.set_ylim(0, 50)\n",
    "ax1.set_xlim(0, 30)\n",
    "ax2.scatter(\n",
    "    df[df.correct == 1]['d(pred, ref)'],\n",
    "    df[df.correct == 1]['d(gold, pred)'],\n",
    "    alpha=0.25\n",
    ")\n",
    "ax2.set_xlabel(\"d(pred, init)\")\n",
    "ax2.set_ylabel(\"d(pred, gold)\")\n",
    "ax2.plot([0, 30], [0, 30], \"--\", color=\"black\")\n",
    "ax2.set_ylim(0, 50)\n",
    "ax2.set_xlim(0, 30)\n",
    "\n",
    "interval = 8\n",
    "maximum = 45\n",
    "for nmut in 1, 2, 3:\n",
    "    res = get_distances(path_fmt.format(\",\".join(\"0\" * nmut + \"1\"), \"eval\"))\n",
    "    res = res['d(gold, ref)']\n",
    "    counts = Counter([x // interval for x in res])\n",
    "    xvals = np.arange(0, maximum // interval) * interval + interval / 2\n",
    "    ax3.bar(\n",
    "        xvals + nmut - 1.5,\n",
    "        np.array([counts[x] for x in range(maximum // interval)]),\n",
    "        width=1,\n",
    "        label=\"{} mutation{}\".format(nmut, (nmut > 1) * \"s\"),\n",
    "    )\n",
    "ax3.legend()\n",
    "ax3.set_xlim(0, 40)\n",
    "ax3.set_xticks(xvals)\n",
    "ax3.set_xticklabels([\"{:.0f}-{:.0f}\".format(x - interval/2, x + interval/2 - 1) for x in xvals])\n",
    "ax3.set_xlabel(\"d(init, gold)\")\n",
    "ax3.set_ylabel(\"Frequency\")\n",
    "plt.savefig(\"img/mutations_info.png\")"
   ]
  },
  {
   "cell_type": "code",
   "execution_count": null,
   "metadata": {},
   "outputs": [],
   "source": []
  }
 ],
 "metadata": {
  "kernelspec": {
   "display_name": "Python 3",
   "language": "python",
   "name": "python3"
  },
  "language_info": {
   "codemirror_mode": {
    "name": "ipython",
    "version": 3
   },
   "file_extension": ".py",
   "mimetype": "text/x-python",
   "name": "python",
   "nbconvert_exporter": "python",
   "pygments_lexer": "ipython3",
   "version": "3.6.10"
  }
 },
 "nbformat": 4,
 "nbformat_minor": 4
}
